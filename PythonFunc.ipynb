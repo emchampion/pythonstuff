{
  "nbformat": 4,
  "nbformat_minor": 0,
  "metadata": {
    "colab": {
      "name": "PythonFunc.ipynb",
      "provenance": [],
      "collapsed_sections": [],
      "authorship_tag": "ABX9TyN72gjIqIK4Oxx54SfPDf2u",
      "include_colab_link": true
    },
    "kernelspec": {
      "name": "python3",
      "display_name": "Python 3"
    }
  },
  "cells": [
    {
      "cell_type": "markdown",
      "metadata": {
        "id": "view-in-github",
        "colab_type": "text"
      },
      "source": [
        "<a href=\"https://colab.research.google.com/github/emchampion/pythonstuff/blob/master/PythonFunc.ipynb\" target=\"_parent\"><img src=\"https://colab.research.google.com/assets/colab-badge.svg\" alt=\"Open In Colab\"/></a>"
      ]
    },
    {
      "cell_type": "code",
      "metadata": {
        "colab": {
          "base_uri": "https://localhost:8080/"
        },
        "id": "EMu3Cw2DrHeP",
        "outputId": "d1669e8c-9606-4135-ae9e-0be604880fae"
      },
      "source": [
        "def hello():\n",
        "  print('Howdy!')\n",
        "  print('Howdy!!!')\n",
        "  print('Hello')\n",
        "\n",
        "hello()\n",
        "hello()\n",
        "hello()"
      ],
      "execution_count": null,
      "outputs": [
        {
          "output_type": "stream",
          "text": [
            "Howdy!\n",
            "Howdy!!!\n",
            "Hello\n",
            "Howdy!\n",
            "Howdy!!!\n",
            "Hello\n",
            "Howdy!\n",
            "Howdy!!!\n",
            "Hello\n"
          ],
          "name": "stdout"
        }
      ]
    },
    {
      "cell_type": "code",
      "metadata": {
        "colab": {
          "base_uri": "https://localhost:8080/"
        },
        "id": "TW2S43DrrpHp",
        "outputId": "37aed6fc-fb8b-4e98-ee21-9e54cfaaf740"
      },
      "source": [
        "def hello(name):\n",
        "  print('Hello, ' + name)\n",
        "\n",
        "hello('Alice')\n",
        "hello('Bob')"
      ],
      "execution_count": null,
      "outputs": [
        {
          "output_type": "stream",
          "text": [
            "Hello, Alice\n",
            "Hello, Bob\n"
          ],
          "name": "stdout"
        }
      ]
    },
    {
      "cell_type": "code",
      "metadata": {
        "id": "YrBXqa05tpS1"
      },
      "source": [
        "import random\n",
        "\n",
        "def getAnswer(answerNumber):\n",
        "  if answerNumber == 1:\n",
        "    return 'It is certain'\n",
        "  elif answerNumber == 2:\n",
        "    return 'it is so'\n",
        "  elif answerNumber == 3:\n",
        "    return 'No'\n",
        "\n",
        "#can also be shown as\n",
        "#print(getAnswer(random.randint(1,3)))\n",
        "r = random.randint(1,3)\n",
        "fortune = getAnswer(r)\n",
        "print(fortune)"
      ],
      "execution_count": null,
      "outputs": []
    },
    {
      "cell_type": "markdown",
      "metadata": {
        "id": "FutLSx0W00_5"
      },
      "source": [
        "Call stack\n"
      ]
    },
    {
      "cell_type": "code",
      "metadata": {
        "id": "XNUdPIeK079f",
        "colab": {
          "base_uri": "https://localhost:8080/"
        },
        "outputId": "9dfe3da7-55bd-41e1-b5b6-b2e4cf96108e"
      },
      "source": [
        "def a():\n",
        "  print('a() starts')\n",
        "  b()\n",
        "  d()\n",
        "  print('a() returns')\n",
        "\n",
        "def b():\n",
        "  print('b() starts')\n",
        "  c()\n",
        "  print('b() returns')\n",
        "\n",
        "def c():\n",
        "  print('c() starts')\n",
        "  print('c() returns')\n",
        "\n",
        "a()"
      ],
      "execution_count": null,
      "outputs": [
        {
          "output_type": "stream",
          "text": [
            "a() starts\n",
            "b() starts\n",
            "c() starts\n",
            "c() returns\n",
            "b() returns\n",
            "d() starts\n",
            "d() returns\n",
            "a() returns\n"
          ],
          "name": "stdout"
        }
      ]
    },
    {
      "cell_type": "code",
      "metadata": {
        "colab": {
          "base_uri": "https://localhost:8080/"
        },
        "id": "rpnvrArT3x2T",
        "outputId": "0708a936-dc61-4da2-fd18-678e0f9ff1d3"
      },
      "source": [
        "def spam():\n",
        "  global eggs\n",
        "  eggs = 'spam' #this is the global\n",
        "\n",
        "def bacon():\n",
        "  eggs = 'bacon' #this is a local\n",
        "\n",
        "def ham():\n",
        "  print(eggs) #this is the global from the top\n",
        "\n",
        "eggs = 42 #this is the global\n",
        "spam()\n",
        "print(eggs)"
      ],
      "execution_count": null,
      "outputs": [
        {
          "output_type": "stream",
          "text": [
            "spam\n"
          ],
          "name": "stdout"
        }
      ]
    },
    {
      "cell_type": "code",
      "metadata": {
        "colab": {
          "base_uri": "https://localhost:8080/"
        },
        "id": "aZEZtnZ4pLuc",
        "outputId": "a4caf1c7-b6b5-4933-e7e0-8761c7cc8dd5"
      },
      "source": [
        "def spam(divideBy):\n",
        "  try:\n",
        "    return 42 / divideBy\n",
        "  except ZeroDivisionError:\n",
        "    print('Error: Invalid argument')\n",
        "\n",
        "print(spam(2))\n",
        "print(spam(12))\n",
        "print(spam(0))\n",
        "print(spam(1))"
      ],
      "execution_count": 1,
      "outputs": [
        {
          "output_type": "stream",
          "text": [
            "21.0\n",
            "3.5\n",
            "Error: Invalid argument\n",
            "None\n",
            "42.0\n"
          ],
          "name": "stdout"
        }
      ]
    },
    {
      "cell_type": "code",
      "metadata": {
        "id": "Mg0MYxN8qJxw"
      },
      "source": [
        "import time,sys\n",
        "indent = 0 #how many spaces to indent\n",
        "indentIncreasing = True #Whether the indentation is increasing or not\n",
        "\n",
        "try:\n",
        "  while True: #main loop\n",
        "    print(' ' * indent, end='')\n",
        "    print('*********')\n",
        "    time.sleep(0.1)#puase for 1/10th second\n",
        "\n",
        "    if indentIncreasing:\n",
        "      #increase the number of spaces\n",
        "      indent = indent + 1\n",
        "      if indent == 20:\n",
        "        #Change direction:\n",
        "        indentIncreasing = False\n",
        "    \n",
        "    else:\n",
        "      #decreasing the number of spaces\n",
        "      indent = indent -1\n",
        "      if indent == 0:\n",
        "        #change direction\n",
        "        indentIncreasing = True\n",
        "\n",
        "except KeyboardInterrupt:\n",
        "  sys.exit\n"
      ],
      "execution_count": null,
      "outputs": []
    },
    {
      "cell_type": "markdown",
      "metadata": {
        "id": "HeTdFdGAaa5G"
      },
      "source": [
        "RECURSION"
      ]
    },
    {
      "cell_type": "code",
      "metadata": {
        "id": "xMtAIwVqsi9g"
      },
      "source": [
        "def collatz(number):\n",
        "  if number % 2 == 0:\n",
        "    result = number //2\n",
        "    print(result)\n",
        "    return result\n",
        "  elif number % 2 == 1:\n",
        "    result = 3 * number + 1\n",
        "    print(result)\n",
        "    return result\n",
        "\n",
        "n = input(\"Give me a number: \")\n",
        "while n != 1:\n",
        "  n = collatz(int(n))"
      ],
      "execution_count": null,
      "outputs": []
    }
  ]
}