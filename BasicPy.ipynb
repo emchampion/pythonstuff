{
  "nbformat": 4,
  "nbformat_minor": 0,
  "metadata": {
    "colab": {
      "name": "BasicPy.ipynb",
      "provenance": [],
      "toc_visible": true,
      "authorship_tag": "ABX9TyPZL/gt6SBJwIMmRKSj2P7F",
      "include_colab_link": true
    },
    "kernelspec": {
      "name": "python3",
      "display_name": "Python 3"
    }
  },
  "cells": [
    {
      "cell_type": "markdown",
      "metadata": {
        "id": "view-in-github",
        "colab_type": "text"
      },
      "source": [
        "<a href=\"https://colab.research.google.com/github/emchampion/pythonstuff/blob/master/BasicPy.ipynb\" target=\"_parent\"><img src=\"https://colab.research.google.com/assets/colab-badge.svg\" alt=\"Open In Colab\"/></a>"
      ]
    },
    {
      "cell_type": "code",
      "metadata": {
        "id": "oFsOpuGsmQyv",
        "outputId": "6f74d19e-7104-431d-ab0e-8d4a7f5e8ffc",
        "colab": {
          "base_uri": "https://localhost:8080/"
        }
      },
      "source": [
        "print('hello')\n",
        "myName=input()\n",
        "print('Hello name,' + myName)\n",
        "print(len(myName))\n",
        "myAge=input()\n",
        "print('Age in a few years' + str(int(myAge)+1))"
      ],
      "execution_count": 11,
      "outputs": [
        {
          "output_type": "stream",
          "text": [
            "hello\n",
            "Eric\n",
            "Hello name,Eric\n",
            "4\n",
            "5\n",
            "Age in a few years6\n"
          ],
          "name": "stdout"
        }
      ]
    },
    {
      "cell_type": "code",
      "metadata": {
        "id": "NgBStpJ_mWMO",
        "outputId": "1041abad-f2bf-46e4-a697-38794c4d3963",
        "colab": {
          "base_uri": "https://localhost:8080/"
        }
      },
      "source": [
        "name = 'Mary'\n",
        "password = 'sword'\n",
        "if name == 'Mary':\n",
        "  print('Hello Mary')\n",
        "if password =='sword':\n",
        "  print('Access granted')\n",
        "else:\n",
        "  print('Wront password')"
      ],
      "execution_count": 12,
      "outputs": [
        {
          "output_type": "stream",
          "text": [
            "Hello Mary\n",
            "Access granted\n"
          ],
          "name": "stdout"
        }
      ]
    },
    {
      "cell_type": "code",
      "metadata": {
        "id": "UYUUZklYsTAt",
        "outputId": "ed3d6d43-557e-4029-9df9-42ed8da3df3c",
        "colab": {
          "base_uri": "https://localhost:8080/"
        }
      },
      "source": [
        "name = 'Carol'\n",
        "age = 3000\n",
        "if name == 'Alice':\n",
        "  print('Hi Alice')\n",
        "elif age < 12:\n",
        "  print('You are not a vampire')\n",
        "elif age > 2000:\n",
        "  print('Unlike you, Alice is no undead, immortal vampire.')\n",
        "elif age > 100:\n",
        "  print('You are not Alice either')"
      ],
      "execution_count": 14,
      "outputs": [
        {
          "output_type": "stream",
          "text": [
            "Unlike you, Alice is no undead, immortal vampire.\n"
          ],
          "name": "stdout"
        }
      ]
    },
    {
      "cell_type": "code",
      "metadata": {
        "id": "4LWJMCOWt36e",
        "outputId": "92d782c9-aea7-4bdd-8f7a-66c4d6884bf0",
        "colab": {
          "base_uri": "https://localhost:8080/"
        }
      },
      "source": [
        "spam = 0\n",
        "while spam < 5:\n",
        "  print('OMG SPAM')\n",
        "  spam = spam +1"
      ],
      "execution_count": 15,
      "outputs": [
        {
          "output_type": "stream",
          "text": [
            "OMG SPAM\n",
            "OMG SPAM\n",
            "OMG SPAM\n",
            "OMG SPAM\n",
            "OMG SPAM\n"
          ],
          "name": "stdout"
        }
      ]
    },
    {
      "cell_type": "code",
      "metadata": {
        "id": "Mi1ebzlPuS0c",
        "outputId": "cd4b6745-296f-47dc-961b-d94bd6e218cf",
        "colab": {
          "base_uri": "https://localhost:8080/"
        }
      },
      "source": [
        "name = input()\n",
        "while name != 'Eric':\n",
        "  print('Please type your name.')\n",
        "  name = input()\n",
        "print('Thanks!')"
      ],
      "execution_count": 18,
      "outputs": [
        {
          "output_type": "stream",
          "text": [
            "Toast\n",
            "Please type your name.\n",
            "Toats\n",
            "Please type your name.\n",
            "D\n",
            "Please type your name.\n",
            "Eric\n",
            "Thanks!\n"
          ],
          "name": "stdout"
        }
      ]
    },
    {
      "cell_type": "code",
      "metadata": {
        "id": "FakoBYm-viOs",
        "outputId": "d3244b4b-ac5d-47b7-9177-24a918a4d7ef",
        "colab": {
          "base_uri": "https://localhost:8080/"
        }
      },
      "source": [
        "while True:\n",
        "  print('Who are you?')\n",
        "  name = input()\n",
        "  if name != 'Hog':\n",
        "    print('Try again!')\n",
        "    continue\n",
        "  print('Hello Hog, are we ride or die?')\n",
        "  rideordie = input()\n",
        "  if rideordie == 'Yes':\n",
        "    break\n",
        "  else:\n",
        "    print('to hell with ya!')\n",
        "    break\n",
        "if rideordie == 'Yes':\n",
        "  print('Drinks are on me!')"
      ],
      "execution_count": 34,
      "outputs": [
        {
          "output_type": "stream",
          "text": [
            "Who are you?\n",
            "Hog\n",
            "Hello Hog, are we ride or die?\n",
            "Yes\n",
            "Drinks are on me!\n"
          ],
          "name": "stdout"
        }
      ]
    },
    {
      "cell_type": "code",
      "metadata": {
        "id": "ajDXKxSLyhxJ",
        "outputId": "cdc96692-1e30-4cf2-8301-a6ad8bd4fcae",
        "colab": {
          "base_uri": "https://localhost:8080/"
        }
      },
      "source": [
        "print('My name is')\n",
        "for i in range(5):\n",
        "  print('Bigwilly Five Times (' + str(i+1) + ')')"
      ],
      "execution_count": 37,
      "outputs": [
        {
          "output_type": "stream",
          "text": [
            "My name is\n",
            "Bigwilly Five Times (1)\n",
            "Bigwilly Five Times (2)\n",
            "Bigwilly Five Times (3)\n",
            "Bigwilly Five Times (4)\n",
            "Bigwilly Five Times (5)\n"
          ],
          "name": "stdout"
        }
      ]
    },
    {
      "cell_type": "code",
      "metadata": {
        "id": "cSVIDSxfzuPN",
        "outputId": "b1aeca6b-39b0-40f4-dfed-e8f8eae3ecff",
        "colab": {
          "base_uri": "https://localhost:8080/"
        }
      },
      "source": [
        "import random\n",
        "for i in range(5):\n",
        "    print(random.randint(1, 10))"
      ],
      "execution_count": 38,
      "outputs": [
        {
          "output_type": "stream",
          "text": [
            "5\n",
            "4\n",
            "5\n",
            "3\n",
            "1\n"
          ],
          "name": "stdout"
        }
      ]
    },
    {
      "cell_type": "code",
      "metadata": {
        "id": "AMKshBnf0LjM",
        "outputId": "92a688a0-901d-4e16-b24c-50f94577ee48",
        "colab": {
          "base_uri": "https://localhost:8080/"
        }
      },
      "source": [
        "import random\n",
        "\n",
        "print('I am thinking of a number between 1 and 20')\n",
        "cNumber = random.randint(1,20)\n",
        "uNumber = 0\n",
        "while uNumber != cNumber:\n",
        "  print('Take a Guess')\n",
        "  uNumber = int(input())\n",
        "  if uNumber > cNumber:\n",
        "    print('To high!')\n",
        "  elif uNumber < cNumber:\n",
        "    print('To Low!')\n",
        "print('Good job you guessed the number')"
      ],
      "execution_count": 43,
      "outputs": [
        {
          "output_type": "stream",
          "text": [
            "I am thinking of a number between 1 and 20\n",
            "8\n",
            "Take a Guess\n",
            "8\n",
            "Good job you guessed the number\n"
          ],
          "name": "stdout"
        }
      ]
    },
    {
      "cell_type": "code",
      "metadata": {
        "id": "IS8GZ73124cT",
        "outputId": "8400356d-43bf-4e60-f649-e375e3c258c1",
        "colab": {
          "base_uri": "https://localhost:8080/"
        }
      },
      "source": [
        "#guessing game for loop\n",
        "import random\n",
        "secretNumber = random.randint(1,20)\n",
        "print('I am thinking of a nunmber between 1 and 20')\n",
        "\n",
        "#ask the player to guess 6 times\n",
        "for guessesTaken in range(1,7):\n",
        "  print('Take a guess')\n",
        "  guess = int(input())\n",
        "\n",
        "  if guess < secretNumber:\n",
        "    print('Your guess is too low')\n",
        "  elif guess > secretNumber:\n",
        "    print ('Your guess is to high')\n",
        "  else:\n",
        "    break\n",
        "\n",
        "if guess == secretNumber:\n",
        "  print('Good Job! you guess my number in ' + str(guessesTaken)\n",
        "   + ' guesses')\n",
        "else:\n",
        "  print('Nope, the number i was thinking of was ' + str(secretNumber)) "
      ],
      "execution_count": 47,
      "outputs": [
        {
          "output_type": "stream",
          "text": [
            "I am thinking of a nunmber between 1 and 20\n",
            "Take a guess\n",
            "1\n",
            "Your guess is too low\n",
            "Take a guess\n",
            "2\n",
            "Your guess is too low\n",
            "Take a guess\n",
            "3\n",
            "Your guess is too low\n",
            "Take a guess\n",
            "4\n",
            "Your guess is too low\n",
            "Take a guess\n",
            "5\n",
            "Your guess is too low\n",
            "Take a guess\n",
            "6\n",
            "Your guess is too low\n",
            "Nope, the number i was thinking of was 14\n"
          ],
          "name": "stdout"
        }
      ]
    },
    {
      "cell_type": "code",
      "metadata": {
        "id": "ObFjWQNs4nIc",
        "outputId": "64a7dc16-4cf8-40d0-eeff-c70ec48364c6",
        "colab": {
          "base_uri": "https://localhost:8080/",
          "height": 1000
        }
      },
      "source": [
        "import random,sys\n",
        "\n",
        "print('Rock,Paper,Scissors')\n",
        "\n",
        "#These Variables keep track of the number of wins, losses, and ties\n",
        "wins=0\n",
        "losses=0\n",
        "ties=0\n",
        "\n",
        "while True: #The main game loop\n",
        "  print('%s Wins, %s Losses, %s Ties'%(wins,losses,ties))\n",
        "  while True: #The Player Input Loop\n",
        "    print('Enter your move: (r)rock (p)paper (s)scissors or (q)quit')\n",
        "    playerMove = input()\n",
        "    if playerMove == 'q':\n",
        "      sys.exit() #quits the program\n",
        "    elif playerMove =='r' or playerMove =='p' or playerMove == 's':\n",
        "      break\n",
        "    print(\"Type one of r,p,s, or q.\")\n",
        "\n",
        "    #Display what the player chose\n",
        "  if playerMove =='r':\n",
        "    print('Rock versus...')\n",
        "  elif playerMove == 'p':\n",
        "    print('Paper versus...')\n",
        "  elif playerMove == 's':\n",
        "    print('Scissors versus...')\n",
        "\n",
        "  #display what the computer chose:\n",
        "  randomNumber = random.randint(1,3)\n",
        "  if randomNumber == 1:\n",
        "    computerMove = 'r'\n",
        "    print('Rock')\n",
        "  elif randomNumber == 2:\n",
        "    computerMove = 'p'\n",
        "    print('Paper')\n",
        "  elif randomNumber == 3:\n",
        "    computerMove= 's'\n",
        "    print('Scissors')\n",
        "\n",
        "  #Display and record the wins/loss/tie:\n",
        "  if playerMove == computerMove:\n",
        "    print('Its a tie!')\n",
        "    ties=ties+1\n",
        "  elif playerMove == 'r' and computerMove == 's':\n",
        "    print('You win!')\n",
        "    wins = wins + 1\n",
        "  elif playerMove == 'p' and computerMove == 'r':\n",
        "    print('You Win!')\n",
        "    wins = wins + 1\n",
        "  elif playerMove == 's' and computerMove == 'p':\n",
        "    print('You Win!')\n",
        "    wins = wins + 1\n",
        "  elif playerMove == 'r' and computerMove == 's':\n",
        "    print('You lose!')\n",
        "    losses = losses + 1\n",
        "  elif playerMove == 'p' and computerMove == 's':\n",
        "    print('You lose!')\n",
        "    losses = losses +1\n",
        "  elif playerMove == 's' and computerMove == 'r':\n",
        "    print('You lose!')\n",
        "    losses = losses + 1\n",
        "\n",
        "\n"
      ],
      "execution_count": 4,
      "outputs": [
        {
          "output_type": "stream",
          "text": [
            "Rock,Paper,Scissors\n",
            "0 Wins, 0 Losses, 0 Ties\n",
            "Enter your move: (r)rock (p)paper (s)scissors or (q)quit\n",
            "r\n",
            "Rock versus...\n",
            "Paper\n",
            "0 Wins, 0 Losses, 0 Ties\n",
            "Enter your move: (r)rock (p)paper (s)scissors or (q)quit\n",
            "s\n",
            "Scissors versus...\n",
            "Paper\n",
            "You Win!\n",
            "1 Wins, 0 Losses, 0 Ties\n",
            "Enter your move: (r)rock (p)paper (s)scissors or (q)quit\n",
            "s\n",
            "Scissors versus...\n",
            "Scissors\n",
            "Its a tie!\n",
            "1 Wins, 0 Losses, 1 Ties\n",
            "Enter your move: (r)rock (p)paper (s)scissors or (q)quit\n",
            "s\n",
            "Scissors versus...\n",
            "Rock\n",
            "You lose!\n",
            "1 Wins, 1 Losses, 1 Ties\n",
            "Enter your move: (r)rock (p)paper (s)scissors or (q)quit\n",
            "s\n",
            "Scissors versus...\n",
            "Scissors\n",
            "Its a tie!\n",
            "1 Wins, 1 Losses, 2 Ties\n",
            "Enter your move: (r)rock (p)paper (s)scissors or (q)quit\n",
            "s\n",
            "Scissors versus...\n",
            "Scissors\n",
            "Its a tie!\n",
            "1 Wins, 1 Losses, 3 Ties\n",
            "Enter your move: (r)rock (p)paper (s)scissors or (q)quit\n",
            "s\n",
            "Scissors versus...\n",
            "Scissors\n",
            "Its a tie!\n",
            "1 Wins, 1 Losses, 4 Ties\n",
            "Enter your move: (r)rock (p)paper (s)scissors or (q)quit\n",
            "s\n",
            "Scissors versus...\n",
            "Rock\n",
            "You lose!\n",
            "1 Wins, 2 Losses, 4 Ties\n",
            "Enter your move: (r)rock (p)paper (s)scissors or (q)quit\n",
            "q\n"
          ],
          "name": "stdout"
        },
        {
          "output_type": "error",
          "ename": "SystemExit",
          "evalue": "ignored",
          "traceback": [
            "An exception has occurred, use %tb to see the full traceback.\n",
            "\u001b[0;31mSystemExit\u001b[0m\n"
          ]
        },
        {
          "output_type": "stream",
          "text": [
            "/usr/local/lib/python3.6/dist-packages/IPython/core/interactiveshell.py:2890: UserWarning: To exit: use 'exit', 'quit', or Ctrl-D.\n",
            "  warn(\"To exit: use 'exit', 'quit', or Ctrl-D.\", stacklevel=1)\n"
          ],
          "name": "stderr"
        }
      ]
    }
  ]
}